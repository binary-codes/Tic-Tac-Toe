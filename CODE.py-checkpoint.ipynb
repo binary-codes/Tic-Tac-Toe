{
 "cells": [
  {
   "cell_type": "code",
   "execution_count": 1,
   "metadata": {},
   "outputs": [],
   "source": [
    "from __future__ import print_function"
   ]
  },
  {
   "cell_type": "code",
   "execution_count": 2,
   "metadata": {},
   "outputs": [],
   "source": [
    "choices = []\n",
    "\n",
    "for x in range (0, 9) :\n",
    "    choices.append(str(x + 1))\n",
    "\n",
    "playerOneTurn = True\n",
    "winner = False"
   ]
  },
  {
   "cell_type": "code",
   "execution_count": 3,
   "metadata": {},
   "outputs": [],
   "source": [
    "def printBoard() :\n",
    "    print( '\\n -----')\n",
    "    print( '|' + choices[0] + '|' + choices[1] + '|' + choices[2] + '|')\n",
    "    print( ' -----')\n",
    "    print( '|' + choices[3] + '|' + choices[4] + '|' + choices[5] + '|')\n",
    "    print( ' -----')\n",
    "    print( '|' + choices[6] + '|' + choices[7] + '|' + choices[8] + '|')\n",
    "    print( ' -----\\n')"
   ]
  },
  {
   "cell_type": "code",
   "execution_count": null,
   "metadata": {},
   "outputs": [],
   "source": [
    "while not winner :\n",
    "    printBoard()\n",
    "\n",
    "    if playerOneTurn :\n",
    "        print( \"Player 1:\")\n",
    "    else :\n",
    "        print( \"Player 2:\")\n",
    "\n",
    "    try:\n",
    "        choice = int(input(\">> \"))\n",
    "    except:\n",
    "        print(\"please enter a valid field\")\n",
    "        continue\n",
    "    if choices[choice - 1] == 'X' or choices [choice-1] == 'O':\n",
    "        print(\"illegal move, plase try again\")\n",
    "        continue\n",
    "\n",
    "    if playerOneTurn :\n",
    "        choices[choice - 1] = 'X'\n",
    "    else :\n",
    "        choices[choice - 1] = 'O'\n",
    "\n",
    "    playerOneTurn = not playerOneTurn\n",
    "\n",
    "    for x in range (0, 3) :\n",
    "        y = x * 3\n",
    "        if (choices[y] == choices[(y + 1)] and choices[y] == choices[(y + 2)]) :\n",
    "            winner = True\n",
    "            printBoard()\n",
    "        if (choices[x] == choices[(x + 3)] and choices[x] == choices[(x + 6)]) :\n",
    "            winner = True\n",
    "            printBoard()\n",
    "\n",
    "    if((choices[0] == choices[4] and choices[0] == choices[8]) or \n",
    "       (choices[2] == choices[4] and choices[4] == choices[6])) :\n",
    "        winner = True\n",
    "        printBoard()\n",
    "\n",
    "print (\"Player \" + str(int(playerOneTurn + 1)) + \" wins!\\n\")"
   ]
  }
 ],
 "metadata": {
  "kernelspec": {
   "display_name": "Python 3",
   "language": "python",
   "name": "python3"
  },
  "language_info": {
   "codemirror_mode": {
    "name": "ipython",
    "version": 3
   },
   "file_extension": ".py",
   "mimetype": "text/x-python",
   "name": "python",
   "nbconvert_exporter": "python",
   "pygments_lexer": "ipython3",
   "version": "3.7.1"
  }
 },
 "nbformat": 4,
 "nbformat_minor": 2
}
